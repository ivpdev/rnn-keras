{
 "cells": [
  {
   "cell_type": "code",
   "execution_count": 4,
   "metadata": {},
   "outputs": [],
   "source": [
    "import numpy\n",
    "from keras.models import Sequential\n",
    "from keras.layers import Dense\n",
    "from keras.layers import Dropout\n",
    "from keras.layers import LSTM\n",
    "from keras.utils import np_utils\n",
    "\n",
    "import xml.etree.ElementTree\n",
    "from functional import seq"
   ]
  },
  {
   "cell_type": "code",
   "execution_count": 18,
   "metadata": {},
   "outputs": [],
   "source": [
    "hyper_params = {\n",
    "    'seq_length': 10\n",
    "}\n",
    "\n",
    "def read_data():\n",
    "    categories_iter = xml.etree.ElementTree.parse('./data/OMQ/omq_public_categories.xml').getroot().iter('category')\n",
    "    interactions_root = xml.etree.ElementTree.parse('./data/OMQ/omq_public_interactions.xml').getiterator('interaction')\n",
    "\n",
    "    return categories_iter, interactions_root\n",
    "\n",
    "def to_request_row(request_element):\n",
    "    text = request_element.findtext('text/relevantText').strip()\n",
    "    category = request_element.findtext('metadata/category')\n",
    "    id = request_element.findtext('metadata/id')\n",
    "\n",
    "    return {'id': id, 'category': category, 'text_raw': text }"
   ]
  },
  {
   "cell_type": "code",
   "execution_count": 30,
   "metadata": {},
   "outputs": [],
   "source": [
    "def generate_seqs_from_text(text):\n",
    "    dataX = []\n",
    "    dataY = []\n",
    "    n_chars = len(text)\n",
    "    seq_length = hyper_params['seq_length']\n",
    "    empty_char = '\\t'\n",
    "\n",
    "    #TODO check if input is shorter then seq_length\n",
    "\n",
    "    for i in range(0, n_chars - 1, 1):\n",
    "        if (i < (n_chars - seq_length)):\n",
    "            seq_in = text[i:i + seq_length]\n",
    "            seq_out = text[i + seq_length]\n",
    "        else:\n",
    "            seq_in = text[i:n_chars] + (empty_char * (seq_length - (n_chars - i)))\n",
    "            seq_out = empty_char\n",
    "\n",
    "        dataX.append(seq_in)\n",
    "        dataY.append(seq_out)\n",
    "\n",
    "    return dataX, dataY"
   ]
  },
  {
   "cell_type": "code",
   "execution_count": 40,
   "metadata": {},
   "outputs": [],
   "source": [
    "def generate_training_data(texts):\n",
    "    X = []\n",
    "    y = []\n",
    "    for text in texts:\n",
    "        X1, y1 = generate_seqs_from_text(text)\n",
    "        X.extend(X1)\n",
    "        y.extend(y1)\n",
    "\n",
    "    return X, y"
   ]
  },
  {
   "cell_type": "code",
   "execution_count": 31,
   "metadata": {},
   "outputs": [],
   "source": [
    "categories, interactions = read_data()\n",
    "interaction_texts = seq(interactions).map(to_request_row).map(lambda i: i['text_raw']).to_list()\n"
   ]
  },
  {
   "cell_type": "code",
   "execution_count": 44,
   "metadata": {},
   "outputs": [
    {
     "data": {
      "text/plain": [
       "['ich habe seit 2 Tagen in meiner Warehouse Software \\nunter Exportieren-File\\nOptionen ein fast nicht lesbare Schrift.',\n",
       " 'Am Samstag\\nbekam\\ndie Version WAREHOUSE Sales firstclass 20 Neo, musste nach der Installation\\nfeststellen, dass die Beschriftung der Knoepfe im Exportbildschirm\\nnicht lesbar sind (z.B. Dateiformat, Navigation, Komprimierung, Schrift,\\nSortieren\\nu.s.w. die komplette Beschriftung unter File-Optionen, Titelseite gestalten\\nund\\nKnoepfe gestalten.']"
      ]
     },
     "execution_count": 44,
     "metadata": {},
     "output_type": "execute_result"
    }
   ],
   "source": [
    "interaction_texts[0:2]"
   ]
  },
  {
   "cell_type": "code",
   "execution_count": 45,
   "metadata": {},
   "outputs": [],
   "source": [
    "X_text, y_text = generate_training_data(interaction_texts[0:2])"
   ]
  },
  {
   "cell_type": "code",
   "execution_count": 54,
   "metadata": {},
   "outputs": [
    {
     "data": {
      "text/plain": [
       "['esbare Sch',\n",
       " 'sbare Schr',\n",
       " 'bare Schri',\n",
       " 'are Schrif',\n",
       " 're Schrift',\n",
       " 'e Schrift.',\n",
       " ' Schrift.\\t',\n",
       " 'Schrift.\\t\\t',\n",
       " 'chrift.\\t\\t\\t',\n",
       " 'hrift.\\t\\t\\t\\t',\n",
       " 'rift.\\t\\t\\t\\t\\t',\n",
       " 'ift.\\t\\t\\t\\t\\t\\t',\n",
       " 'ft.\\t\\t\\t\\t\\t\\t\\t',\n",
       " 't.\\t\\t\\t\\t\\t\\t\\t\\t',\n",
       " 'Am Samstag',\n",
       " 'm Samstag\\n',\n",
       " ' Samstag\\nb',\n",
       " 'Samstag\\nbe',\n",
       " 'amstag\\nbek',\n",
       " 'mstag\\nbeka']"
      ]
     },
     "execution_count": 54,
     "metadata": {},
     "output_type": "execute_result"
    }
   ],
   "source": [
    "X_text[100:120]"
   ]
  },
  {
   "cell_type": "code",
   "execution_count": 55,
   "metadata": {},
   "outputs": [
    {
     "data": {
      "text/plain": [
       "[10,\n",
       " 10,\n",
       " 10,\n",
       " 10,\n",
       " 10,\n",
       " 10,\n",
       " 10,\n",
       " 10,\n",
       " 10,\n",
       " 10,\n",
       " 10,\n",
       " 10,\n",
       " 10,\n",
       " 10,\n",
       " 10,\n",
       " 10,\n",
       " 10,\n",
       " 10,\n",
       " 10,\n",
       " 10]"
      ]
     },
     "execution_count": 55,
     "metadata": {},
     "output_type": "execute_result"
    }
   ],
   "source": [
    "[len(t) for t in X_text[100:120]]  "
   ]
  },
  {
   "cell_type": "code",
   "execution_count": 56,
   "metadata": {},
   "outputs": [
    {
     "data": {
      "text/plain": [
       "['r',\n",
       " 'i',\n",
       " 'f',\n",
       " 't',\n",
       " '.',\n",
       " '\\t',\n",
       " '\\t',\n",
       " '\\t',\n",
       " '\\t',\n",
       " '\\t',\n",
       " '\\t',\n",
       " '\\t',\n",
       " '\\t',\n",
       " '\\t',\n",
       " '\\n',\n",
       " 'b',\n",
       " 'e',\n",
       " 'k',\n",
       " 'a',\n",
       " 'm']"
      ]
     },
     "execution_count": 56,
     "metadata": {},
     "output_type": "execute_result"
    }
   ],
   "source": [
    "y_text[100:120]"
   ]
  },
  {
   "cell_type": "code",
   "execution_count": 57,
   "metadata": {},
   "outputs": [
    {
     "data": {
      "text/plain": [
       "['nd\\nKnoepfe',\n",
       " 'd\\nKnoepfe ',\n",
       " '\\nKnoepfe g',\n",
       " 'Knoepfe ge',\n",
       " 'noepfe ges',\n",
       " 'oepfe gest',\n",
       " 'epfe gesta',\n",
       " 'pfe gestal',\n",
       " 'fe gestalt',\n",
       " 'e gestalte',\n",
       " ' gestalten',\n",
       " 'gestalten.',\n",
       " 'estalten.\\t',\n",
       " 'stalten.\\t\\t',\n",
       " 'talten.\\t\\t\\t',\n",
       " 'alten.\\t\\t\\t\\t',\n",
       " 'lten.\\t\\t\\t\\t\\t',\n",
       " 'ten.\\t\\t\\t\\t\\t\\t',\n",
       " 'en.\\t\\t\\t\\t\\t\\t\\t',\n",
       " 'n.\\t\\t\\t\\t\\t\\t\\t\\t']"
      ]
     },
     "execution_count": 57,
     "metadata": {},
     "output_type": "execute_result"
    }
   ],
   "source": [
    "X_text[-20:]"
   ]
  },
  {
   "cell_type": "code",
   "execution_count": 58,
   "metadata": {},
   "outputs": [
    {
     "data": {
      "text/plain": [
       "[10,\n",
       " 10,\n",
       " 10,\n",
       " 10,\n",
       " 10,\n",
       " 10,\n",
       " 10,\n",
       " 10,\n",
       " 10,\n",
       " 10,\n",
       " 10,\n",
       " 10,\n",
       " 10,\n",
       " 10,\n",
       " 10,\n",
       " 10,\n",
       " 10,\n",
       " 10,\n",
       " 10,\n",
       " 10]"
      ]
     },
     "execution_count": 58,
     "metadata": {},
     "output_type": "execute_result"
    }
   ],
   "source": [
    "[len(t) for t in X_text[-20:]]  "
   ]
  },
  {
   "cell_type": "code",
   "execution_count": 59,
   "metadata": {},
   "outputs": [
    {
     "data": {
      "text/plain": [
       "[' ',\n",
       " 'g',\n",
       " 'e',\n",
       " 's',\n",
       " 't',\n",
       " 'a',\n",
       " 'l',\n",
       " 't',\n",
       " 'e',\n",
       " 'n',\n",
       " '.',\n",
       " '\\t',\n",
       " '\\t',\n",
       " '\\t',\n",
       " '\\t',\n",
       " '\\t',\n",
       " '\\t',\n",
       " '\\t',\n",
       " '\\t',\n",
       " '\\t']"
      ]
     },
     "execution_count": 59,
     "metadata": {},
     "output_type": "execute_result"
    }
   ],
   "source": [
    "y_text[-20:]"
   ]
  },
  {
   "cell_type": "code",
   "execution_count": null,
   "metadata": {},
   "outputs": [],
   "source": []
  },
  {
   "cell_type": "code",
   "execution_count": null,
   "metadata": {},
   "outputs": [],
   "source": []
  }
 ],
 "metadata": {
  "kernelspec": {
   "display_name": "venv_rnn2",
   "language": "python",
   "name": "venv_rnn2"
  },
  "language_info": {
   "codemirror_mode": {
    "name": "ipython",
    "version": 3
   },
   "file_extension": ".py",
   "mimetype": "text/x-python",
   "name": "python",
   "nbconvert_exporter": "python",
   "pygments_lexer": "ipython3",
   "version": "3.7.1"
  }
 },
 "nbformat": 4,
 "nbformat_minor": 2
}
